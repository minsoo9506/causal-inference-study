{
 "cells": [
  {
   "attachments": {},
   "cell_type": "markdown",
   "metadata": {},
   "source": [
    "# dowhy tutorial\n",
    "- dowhy에서 제공하는 4-step을 이용하여 causal inference"
   ]
  },
  {
   "attachments": {},
   "cell_type": "markdown",
   "metadata": {},
   "source": [
    "## 00. data setup"
   ]
  },
  {
   "cell_type": "code",
   "execution_count": 6,
   "metadata": {},
   "outputs": [],
   "source": [
    "import numpy as np\n",
    "import pandas as pd"
   ]
  },
  {
   "cell_type": "code",
   "execution_count": 3,
   "metadata": {},
   "outputs": [],
   "source": [
    "\n",
    "SAMPLE_SIZE = 1000\n",
    "S = np.random.random(SAMPLE_SIZE)\n",
    "Q = 0.2*S + 0.67*np.random.random(SAMPLE_SIZE)\n",
    "X = 0.14*Q + 0.4*np.random.random(SAMPLE_SIZE)\n",
    "Y = 0.7*X + 0.11*Q + 0.32*S + 0.24*np.random.random(SAMPLE_SIZE)\n",
    "P = 0.43*X + 0.21*Y + 0.22*np.random.random(SAMPLE_SIZE)\n",
    "# Build a data frame\n",
    "df = pd.DataFrame(np.vstack([S, Q, X, Y, P]).T,\n",
    "columns=['S', 'Q', 'X', 'Y', 'P'])"
   ]
  },
  {
   "cell_type": "code",
   "execution_count": 4,
   "metadata": {},
   "outputs": [
    {
     "data": {
      "text/html": [
       "<div>\n",
       "<style scoped>\n",
       "    .dataframe tbody tr th:only-of-type {\n",
       "        vertical-align: middle;\n",
       "    }\n",
       "\n",
       "    .dataframe tbody tr th {\n",
       "        vertical-align: top;\n",
       "    }\n",
       "\n",
       "    .dataframe thead th {\n",
       "        text-align: right;\n",
       "    }\n",
       "</style>\n",
       "<table border=\"1\" class=\"dataframe\">\n",
       "  <thead>\n",
       "    <tr style=\"text-align: right;\">\n",
       "      <th></th>\n",
       "      <th>S</th>\n",
       "      <th>Q</th>\n",
       "      <th>X</th>\n",
       "      <th>Y</th>\n",
       "      <th>P</th>\n",
       "    </tr>\n",
       "  </thead>\n",
       "  <tbody>\n",
       "    <tr>\n",
       "      <th>0</th>\n",
       "      <td>0.473833</td>\n",
       "      <td>0.583457</td>\n",
       "      <td>0.459444</td>\n",
       "      <td>0.656808</td>\n",
       "      <td>0.539220</td>\n",
       "    </tr>\n",
       "    <tr>\n",
       "      <th>1</th>\n",
       "      <td>0.958821</td>\n",
       "      <td>0.712537</td>\n",
       "      <td>0.308361</td>\n",
       "      <td>0.621572</td>\n",
       "      <td>0.391169</td>\n",
       "    </tr>\n",
       "    <tr>\n",
       "      <th>2</th>\n",
       "      <td>0.094995</td>\n",
       "      <td>0.583543</td>\n",
       "      <td>0.385601</td>\n",
       "      <td>0.374335</td>\n",
       "      <td>0.446657</td>\n",
       "    </tr>\n",
       "  </tbody>\n",
       "</table>\n",
       "</div>"
      ],
      "text/plain": [
       "          S         Q         X         Y         P\n",
       "0  0.473833  0.583457  0.459444  0.656808  0.539220\n",
       "1  0.958821  0.712537  0.308361  0.621572  0.391169\n",
       "2  0.094995  0.583543  0.385601  0.374335  0.446657"
      ]
     },
     "execution_count": 4,
     "metadata": {},
     "output_type": "execute_result"
    }
   ],
   "source": [
    "df.head(3)"
   ]
  },
  {
   "attachments": {},
   "cell_type": "markdown",
   "metadata": {},
   "source": [
    "## 01. assumption 정의"
   ]
  },
  {
   "cell_type": "code",
   "execution_count": 7,
   "metadata": {},
   "outputs": [],
   "source": [
    "nodes = ['S', 'Q', 'X', 'Y', 'P']\n",
    "edges = ['SQ', 'SY', 'QX', 'QY', 'XP', 'YP', 'XY']"
   ]
  },
  {
   "cell_type": "code",
   "execution_count": 8,
   "metadata": {},
   "outputs": [],
   "source": [
    "gml_string = 'graph [directed 1\\n'\n",
    "for node in nodes:\n",
    "    gml_string += f'\\tnode [id \"{node}\" label \"{node}\"]\\n'\n",
    "for edge in edges:\n",
    "    gml_string += f'\\tedge [source \"{edge[0]}\" target \"{edge[1]}\"]\\n'\n",
    "\n",
    "gml_string += ']'"
   ]
  },
  {
   "attachments": {},
   "cell_type": "markdown",
   "metadata": {},
   "source": [
    "- `directed` graph이고 이 graph의 id는 1을 의미합니다.\n",
    "- 나머지는 node, edge를 설명합니다."
   ]
  },
  {
   "cell_type": "code",
   "execution_count": 9,
   "metadata": {},
   "outputs": [
    {
     "name": "stdout",
     "output_type": "stream",
     "text": [
      "graph [directed 1\n",
      "\tnode [id \"S\" label \"S\"]\n",
      "\tnode [id \"Q\" label \"Q\"]\n",
      "\tnode [id \"X\" label \"X\"]\n",
      "\tnode [id \"Y\" label \"Y\"]\n",
      "\tnode [id \"P\" label \"P\"]\n",
      "\tedge [source \"S\" target \"Q\"]\n",
      "\tedge [source \"S\" target \"Y\"]\n",
      "\tedge [source \"Q\" target \"X\"]\n",
      "\tedge [source \"Q\" target \"Y\"]\n",
      "\tedge [source \"X\" target \"P\"]\n",
      "\tedge [source \"Y\" target \"P\"]\n",
      "\tedge [source \"X\" target \"Y\"]\n",
      "]\n"
     ]
    }
   ],
   "source": [
    "print(gml_string)"
   ]
  },
  {
   "cell_type": "code",
   "execution_count": 1,
   "metadata": {},
   "outputs": [
    {
     "name": "stderr",
     "output_type": "stream",
     "text": [
      "/Users/kakao/.pyenv/versions/3.9.15/envs/causality-study/lib/python3.9/site-packages/tqdm/auto.py:21: TqdmWarning: IProgress not found. Please update jupyter and ipywidgets. See https://ipywidgets.readthedocs.io/en/stable/user_install.html\n",
      "  from .autonotebook import tqdm as notebook_tqdm\n"
     ]
    }
   ],
   "source": [
    "import dowhy\n",
    "from dowhy import CausalModel"
   ]
  },
  {
   "cell_type": "code",
   "execution_count": 10,
   "metadata": {},
   "outputs": [],
   "source": [
    "model = CausalModel(\n",
    "    data=df,\n",
    "    treatment='X',\n",
    "    outcome='Y',\n",
    "    graph=gml_string\n",
    ")"
   ]
  },
  {
   "cell_type": "code",
   "execution_count": 11,
   "metadata": {},
   "outputs": [
    {
     "data": {
      "image/png": "[encoded data removed]",
      "text/plain": [
       "<Figure size 800x600 with 1 Axes>"
      ]
     },
     "metadata": {},
     "output_type": "display_data"
    }
   ],
   "source": [
    "model.view_model()"
   ]
  },
  {
   "attachments": {},
   "cell_type": "markdown",
   "metadata": {},
   "source": [
    "## 02. estimand 구하기"
   ]
  },
  {
   "attachments": {},
   "cell_type": "markdown",
   "metadata": {},
   "source": [
    "- 여기서는 backdoor 방법으로 causal effect를 구할 수 있다고 나옵니다.\n",
    "- graph를 통해서 유추할 수 있었듯이 `X`, `Y`기준 fork인 `Q`를 conditioning하면 backdoor path를 block할 수 있습니다."
   ]
  },
  {
   "cell_type": "code",
   "execution_count": 12,
   "metadata": {},
   "outputs": [
    {
     "name": "stdout",
     "output_type": "stream",
     "text": [
      "Estimand type: EstimandType.NONPARAMETRIC_ATE\n",
      "\n",
      "### Estimand : 1\n",
      "Estimand name: backdoor\n",
      "Estimand expression:\n",
      " d          \n",
      "────(E[Y|Q])\n",
      "d[X]        \n",
      "Estimand assumption 1, Unconfoundedness: If U→{X} and U→Y then P(Y|X,Q,U) = P(Y|X,Q)\n",
      "\n",
      "### Estimand : 2\n",
      "Estimand name: iv\n",
      "No such variable(s) found!\n",
      "\n",
      "### Estimand : 3\n",
      "Estimand name: frontdoor\n",
      "No such variable(s) found!\n",
      "\n"
     ]
    }
   ],
   "source": [
    "estimand = model.identify_effect()\n",
    "\n",
    "print(estimand)"
   ]
  },
  {
   "attachments": {},
   "cell_type": "markdown",
   "metadata": {},
   "source": [
    "## 03. estimate 하기"
   ]
  },
  {
   "cell_type": "code",
   "execution_count": 13,
   "metadata": {},
   "outputs": [],
   "source": [
    "from sklearn.linear_model import LinearRegression, LogisticRegression, LassoCV\n",
    "from sklearn.ensemble import GradientBoostingRegressor"
   ]
  },
  {
   "attachments": {},
   "cell_type": "markdown",
   "metadata": {},
   "source": [
    "- 다양한 방법을 이용하여 estimate할 수 있습니다."
   ]
  },
  {
   "cell_type": "code",
   "execution_count": null,
   "metadata": {},
   "outputs": [],
   "source": [
    "estimate = model.estimate_effect(\n",
    "    identified_estimand=estimand,\n",
    "    method_name='backdoor.econml.dml.DML',\n",
    "    method_params={\n",
    "        'init_params': {\n",
    "            'model_y': GradientBoostingRegressor(),\n",
    "            'model_t': GradientBoostingRegressor(),\n",
    "            'model_final': LassoCV(fit_intercept=False)\n",
    "        },\n",
    "        'fit_params':{}\n",
    "    }\n",
    ")"
   ]
  },
  {
   "cell_type": "code",
   "execution_count": 26,
   "metadata": {},
   "outputs": [
    {
     "name": "stdout",
     "output_type": "stream",
     "text": [
      "*** Causal Estimate ***\n",
      "\n",
      "## Identified estimand\n",
      "Estimand type: EstimandType.NONPARAMETRIC_ATE\n",
      "\n",
      "### Estimand : 1\n",
      "Estimand name: backdoor\n",
      "Estimand expression:\n",
      " d          \n",
      "────(E[Y|Q])\n",
      "d[X]        \n",
      "Estimand assumption 1, Unconfoundedness: If U→{X} and U→Y then P(Y|X,Q,U) = P(Y|X,Q)\n",
      "\n",
      "## Realized estimand\n",
      "b: Y~X+Q | \n",
      "Target units: ate\n",
      "\n",
      "## Estimate\n",
      "Mean value: 0.6842788018470468\n",
      "Effect estimates: [[0.6842788]]\n",
      "\n"
     ]
    }
   ],
   "source": [
    "print(estimate)"
   ]
  },
  {
   "cell_type": "code",
   "execution_count": 16,
   "metadata": {},
   "outputs": [
    {
     "name": "stdout",
     "output_type": "stream",
     "text": [
      "DML을 이용하여 구한 causal effect는 0.6842788018470468입니다.\n"
     ]
    }
   ],
   "source": [
    "print(f'DML을 이용하여 구한 causal effect는 {estimate.value}입니다.')"
   ]
  },
  {
   "cell_type": "code",
   "execution_count": 18,
   "metadata": {},
   "outputs": [],
   "source": [
    "estimate_lr = model.estimate_effect(\n",
    "    identified_estimand=estimand,\n",
    "    method_name='backdoor.linear_regression'\n",
    ")"
   ]
  },
  {
   "cell_type": "code",
   "execution_count": 20,
   "metadata": {},
   "outputs": [
    {
     "name": "stdout",
     "output_type": "stream",
     "text": [
      "lr을 이용하여 구한 causal effect는 0.6714716194006616입니다.\n"
     ]
    }
   ],
   "source": [
    "print(f'lr을 이용하여 구한 causal effect는 {estimate_lr.value}입니다.')"
   ]
  },
  {
   "attachments": {},
   "cell_type": "markdown",
   "metadata": {},
   "source": [
    "## 04. refute\n",
    "- 우리가 구한 causal effect가 valid한지 검증test를 합니다."
   ]
  },
  {
   "cell_type": "code",
   "execution_count": null,
   "metadata": {},
   "outputs": [],
   "source": [
    "random_cause = model.refute_estimate(\n",
    "    estimand=estimand,\n",
    "    estimate=estimate,\n",
    "    method_name='random_common_cause'\n",
    ")"
   ]
  },
  {
   "cell_type": "code",
   "execution_count": 25,
   "metadata": {},
   "outputs": [
    {
     "name": "stdout",
     "output_type": "stream",
     "text": [
      "Refute: Add a random common cause\n",
      "Estimated effect:0.6842788018470468\n",
      "New effect:0.6561951987191602\n",
      "p value:0.08000000000000007\n",
      "\n"
     ]
    }
   ],
   "source": [
    "print(random_cause)"
   ]
  },
  {
   "cell_type": "code",
   "execution_count": null,
   "metadata": {},
   "outputs": [],
   "source": [
    "placebo_refuter = model.refute_estimate(\n",
    "    estimand=estimand,\n",
    "    estimate=estimate,\n",
    "    method_name='placebo_treatment_refuter'\n",
    ")"
   ]
  },
  {
   "cell_type": "code",
   "execution_count": 30,
   "metadata": {},
   "outputs": [
    {
     "name": "stdout",
     "output_type": "stream",
     "text": [
      "Refute: Use a Placebo Treatment\n",
      "Estimated effect:0.6842788018470468\n",
      "New effect:0.0\n",
      "p value:2.0\n",
      "\n"
     ]
    }
   ],
   "source": [
    "print(placebo_refuter)"
   ]
  }
 ],
 "metadata": {
  "kernelspec": {
   "display_name": "causality-study",
   "language": "python",
   "name": "python3"
  },
  "language_info": {
   "codemirror_mode": {
    "name": "ipython",
    "version": 3
   },
   "file_extension": ".py",
   "mimetype": "text/x-python",
   "name": "python",
   "nbconvert_exporter": "python",
   "pygments_lexer": "ipython3",
   "version": "3.9.15"
  },
  "orig_nbformat": 4
 },
 "nbformat": 4,
 "nbformat_minor": 2
}
