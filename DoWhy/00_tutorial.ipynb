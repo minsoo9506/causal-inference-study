{
 "cells": [
  {
   "cell_type": "markdown",
   "metadata": {},
   "source": [
    " - https://microsoft.github.io/dowhy/example_notebooks/dowhy_simple_example.html"
   ]
  },
  {
   "cell_type": "code",
   "execution_count": 1,
   "metadata": {},
   "outputs": [],
   "source": [
    "import numpy as np\n",
    "import pandas as pd\n",
    "\n",
    "from dowhy import CausalModel\n",
    "import dowhy.datasets\n",
    "\n",
    "# Avoid printing dataconversion warnings from sklearn and numpy\n",
    "import warnings\n",
    "from sklearn.exceptions import DataConversionWarning\n",
    "warnings.filterwarnings(action='ignore', category=DataConversionWarning)\n",
    "warnings.filterwarnings(action='ignore', category=FutureWarning)\n",
    "\n",
    "# Config dict to set the logging level\n",
    "import logging\n",
    "import logging.config\n",
    "DEFAULT_LOGGING = {\n",
    "    'version': 1,\n",
    "    'disable_existing_loggers': False,\n",
    "    'loggers': {\n",
    "        '': {\n",
    "            'level': 'WARN',\n",
    "        },\n",
    "    }\n",
    "}\n",
    "\n",
    "logging.config.dictConfig(DEFAULT_LOGGING)\n",
    "logging.info(\"Getting started with DoWhy. Running notebook...\")"
   ]
  },
  {
   "cell_type": "markdown",
   "metadata": {},
   "source": [
    "# 0. data\n",
    "- `beta`가 true causal effect"
   ]
  },
  {
   "cell_type": "code",
   "execution_count": 2,
   "metadata": {},
   "outputs": [],
   "source": [
    "data = dowhy.datasets.linear_dataset(beta=10,\n",
    "        num_common_causes=5,\n",
    "        num_instruments = 2,\n",
    "        num_effect_modifiers=1,\n",
    "        num_samples=5000,\n",
    "        treatment_is_binary=True,\n",
    "        stddev_treatment_noise=10,\n",
    "        num_discrete_common_causes=1)\n",
    "df = data[\"df\"]"
   ]
  },
  {
   "cell_type": "code",
   "execution_count": 3,
   "metadata": {},
   "outputs": [
    {
     "data": {
      "text/html": [
       "<div>\n",
       "<style scoped>\n",
       "    .dataframe tbody tr th:only-of-type {\n",
       "        vertical-align: middle;\n",
       "    }\n",
       "\n",
       "    .dataframe tbody tr th {\n",
       "        vertical-align: top;\n",
       "    }\n",
       "\n",
       "    .dataframe thead th {\n",
       "        text-align: right;\n",
       "    }\n",
       "</style>\n",
       "<table border=\"1\" class=\"dataframe\">\n",
       "  <thead>\n",
       "    <tr style=\"text-align: right;\">\n",
       "      <th></th>\n",
       "      <th>X0</th>\n",
       "      <th>Z0</th>\n",
       "      <th>Z1</th>\n",
       "      <th>W0</th>\n",
       "      <th>W1</th>\n",
       "      <th>W2</th>\n",
       "      <th>W3</th>\n",
       "      <th>W4</th>\n",
       "      <th>v0</th>\n",
       "      <th>y</th>\n",
       "    </tr>\n",
       "  </thead>\n",
       "  <tbody>\n",
       "    <tr>\n",
       "      <th>0</th>\n",
       "      <td>0.971155</td>\n",
       "      <td>1.0</td>\n",
       "      <td>0.983871</td>\n",
       "      <td>0.254491</td>\n",
       "      <td>1.537766</td>\n",
       "      <td>2.728831</td>\n",
       "      <td>0.405794</td>\n",
       "      <td>2</td>\n",
       "      <td>True</td>\n",
       "      <td>35.897518</td>\n",
       "    </tr>\n",
       "    <tr>\n",
       "      <th>1</th>\n",
       "      <td>-0.008984</td>\n",
       "      <td>0.0</td>\n",
       "      <td>0.649192</td>\n",
       "      <td>-1.718428</td>\n",
       "      <td>-1.486643</td>\n",
       "      <td>0.459921</td>\n",
       "      <td>0.874968</td>\n",
       "      <td>2</td>\n",
       "      <td>False</td>\n",
       "      <td>-0.971724</td>\n",
       "    </tr>\n",
       "    <tr>\n",
       "      <th>2</th>\n",
       "      <td>0.468398</td>\n",
       "      <td>1.0</td>\n",
       "      <td>0.615669</td>\n",
       "      <td>-0.695340</td>\n",
       "      <td>-0.684092</td>\n",
       "      <td>0.599958</td>\n",
       "      <td>0.045433</td>\n",
       "      <td>3</td>\n",
       "      <td>True</td>\n",
       "      <td>15.913232</td>\n",
       "    </tr>\n",
       "    <tr>\n",
       "      <th>3</th>\n",
       "      <td>-0.331048</td>\n",
       "      <td>0.0</td>\n",
       "      <td>0.989380</td>\n",
       "      <td>0.034818</td>\n",
       "      <td>-0.930087</td>\n",
       "      <td>1.432913</td>\n",
       "      <td>0.826309</td>\n",
       "      <td>0</td>\n",
       "      <td>True</td>\n",
       "      <td>14.364757</td>\n",
       "    </tr>\n",
       "    <tr>\n",
       "      <th>4</th>\n",
       "      <td>1.085689</td>\n",
       "      <td>1.0</td>\n",
       "      <td>0.367563</td>\n",
       "      <td>-0.986637</td>\n",
       "      <td>0.174001</td>\n",
       "      <td>0.773636</td>\n",
       "      <td>-0.931235</td>\n",
       "      <td>1</td>\n",
       "      <td>True</td>\n",
       "      <td>11.070614</td>\n",
       "    </tr>\n",
       "  </tbody>\n",
       "</table>\n",
       "</div>"
      ],
      "text/plain": [
       "         X0   Z0        Z1        W0        W1        W2        W3 W4     v0  \\\n",
       "0  0.971155  1.0  0.983871  0.254491  1.537766  2.728831  0.405794  2   True   \n",
       "1 -0.008984  0.0  0.649192 -1.718428 -1.486643  0.459921  0.874968  2  False   \n",
       "2  0.468398  1.0  0.615669 -0.695340 -0.684092  0.599958  0.045433  3   True   \n",
       "3 -0.331048  0.0  0.989380  0.034818 -0.930087  1.432913  0.826309  0   True   \n",
       "4  1.085689  1.0  0.367563 -0.986637  0.174001  0.773636 -0.931235  1   True   \n",
       "\n",
       "           y  \n",
       "0  35.897518  \n",
       "1  -0.971724  \n",
       "2  15.913232  \n",
       "3  14.364757  \n",
       "4  11.070614  "
      ]
     },
     "execution_count": 3,
     "metadata": {},
     "output_type": "execute_result"
    }
   ],
   "source": [
    "# 현재 dowhy는 pandas dataframe만 input으로 사용\n",
    "df.head()"
   ]
  },
  {
   "cell_type": "markdown",
   "metadata": {},
   "source": [
    "- `data`에 들어있는 값들 (`df` 제외)\n",
    "```\n",
    "- 'treatment_name': ['v0'],\n",
    "- 'outcome_name': 'y',\n",
    "- 'common_causes_names': ['W0', 'W1', 'W2', 'W3', 'W4'],\n",
    "- 'instrument_names': ['Z0', 'Z1'],\n",
    "- 'effect_modifier_names': ['X0'],\n",
    "- 'frontdoor_variables_names': [],\n",
    "- 'dot_graph': 'digraph {v0->y;W0-> v0; W1-> v0; W2-> v0; W3-> v0; W4-> v0;Z0-> v0; Z1-> v0;W0-> y; W1-> y; W2-> y; W3-> y; W4-> y;X0-> y;}',\n",
    "- 'gml_graph': 'graph[directed 1node[ id \"y\" label \"y\"]node[ id \"W0\" label \"W0\"] node[ id \"W1\" label \"W1\"] node[ id \"W2\" label \"W2\"] node[ id \"W3\" label \"W3\"] node[ id \"W4\" label \"W4\"]node[ id \"Z0\" label \"Z0\"] node[ id \"Z1\" label \"Z1\"]node[ id \"v0\" label \"v0\"]edge[source \"v0\" target \"y\"]edge[ source \"W0\" target \"v0\"] edge[ source \"W1\" target \"v0\"] edge[ source \"W2\" target \"v0\"] edge[ source \"W3\" target \"v0\"] edge[ source \"W4\" target \"v0\"]edge[ source \"Z0\" target \"v0\"] edge[ source \"Z1\" target \"v0\"]edge[ source \"W0\" target \"y\"] edge[ source \"W1\" target \"y\"] edge[ source \"W2\" target \"y\"] edge[ source \"W3\" target \"y\"] edge[ source \"W4\" target \"y\"]node[ id \"X0\" label \"X0\"] edge[ source \"X0\" target \"y\"]]',\n",
    " 'ate': 12.852576193620925}\n",
    "\n",
    "```"
   ]
  },
  {
   "cell_type": "markdown",
   "metadata": {},
   "source": [
    "# 1. Model causal mechanisms"
   ]
  },
  {
   "cell_type": "code",
   "execution_count": 4,
   "metadata": {},
   "outputs": [],
   "source": [
    "model=CausalModel(\n",
    "        data = df,\n",
    "        treatment=data[\"treatment_name\"],\n",
    "        outcome=data[\"outcome_name\"],\n",
    "        graph=data[\"gml_graph\"] # 공홈에서 dot_graph보다 gml_graph를 recommend함\n",
    "        )"
   ]
  },
  {
   "cell_type": "markdown",
   "metadata": {},
   "source": [
    "- simulation data가 아니라 기존의 data를 이용하려면 위의 format을 그래도 작성하면 된다\n",
    "- [DAGitty](http://dagitty.net/dags.html#) 사이트를 이용할 수도 있다\n",
    "- 예시\n",
    "```python\n",
    "causal_graph = \"\"\"\n",
    "digraph {\n",
    "High_limit;\n",
    "Churn;\n",
    "Income_Category;\n",
    "Education_Level;\n",
    "Customer_Age;\n",
    "U[label=\"Unobserved Confounders\"];\n",
    "Customer_Age -> Education_Level; Customer_Age -> Income_Category;\n",
    "Education_Level -> Income_Category; Income_Category->High_limit;\n",
    "U->Income_Category;U->High_limit;U->Churn;\n",
    "High_limit->Churn; Income_Category -> Churn;\n",
    "}\n",
    "\"\"\"\n",
    "\n",
    "model= CausalModel(\n",
    "        data = training, # dataframe\n",
    "        graph=causal_graph.replace(\"\\n\", \" \"),\n",
    "        treatment='High_limit',\n",
    "        outcome='Churn')\n",
    "```"
   ]
  },
  {
   "cell_type": "code",
   "execution_count": 5,
   "metadata": {},
   "outputs": [
    {
     "data": {
      "image/png": "[encoded data removed]",
      "text/plain": [
       "<IPython.core.display.Image object>"
      ]
     },
     "metadata": {},
     "output_type": "display_data"
    }
   ],
   "source": [
    "model.view_model()\n",
    "\n",
    "from IPython.display import Image, display\n",
    "display(Image(filename=\"causal_model.png\"))"
   ]
  },
  {
   "cell_type": "markdown",
   "metadata": {},
   "source": [
    "# 2. Identify the target estimand"
   ]
  },
  {
   "cell_type": "code",
   "execution_count": 10,
   "metadata": {},
   "outputs": [
    {
     "name": "stdout",
     "output_type": "stream",
     "text": [
      "Estimand type: nonparametric-ate\n",
      "\n",
      "### Estimand : 1\n",
      "Estimand name: backdoor\n",
      "Estimand expression:\n",
      "  d                       \n",
      "─────(E[y|W3,W1,W2,W4,W0])\n",
      "d[v₀]                     \n",
      "Estimand assumption 1, Unconfoundedness: If U→{v0} and U→y then P(y|v0,W3,W1,W2,W4,W0,U) = P(y|v0,W3,W1,W2,W4,W0)\n",
      "\n",
      "### Estimand : 2\n",
      "Estimand name: iv\n",
      "Estimand expression:\n",
      " ⎡                              -1⎤\n",
      " ⎢    d        ⎛    d          ⎞  ⎥\n",
      "E⎢─────────(y)⋅⎜─────────([v₀])⎟  ⎥\n",
      " ⎣d[Z₁  Z₀]    ⎝d[Z₁  Z₀]      ⎠  ⎦\n",
      "Estimand assumption 1, As-if-random: If U→→y then ¬(U →→{Z1,Z0})\n",
      "Estimand assumption 2, Exclusion: If we remove {Z1,Z0}→{v0}, then ¬({Z1,Z0}→y)\n",
      "\n",
      "### Estimand : 3\n",
      "Estimand name: frontdoor\n",
      "No such variable(s) found!\n",
      "\n"
     ]
    }
   ],
   "source": [
    "identified_estimand = model.identify_effect(proceed_when_unidentifiable=True)\n",
    "# proceed_when_unidentifiable. It needs to be set to True\n",
    "# to convey the assumption that we are ignoring any unobserved confounding\n",
    "\n",
    "print(identified_estimand)"
   ]
  },
  {
   "cell_type": "markdown",
   "metadata": {},
   "source": [
    "# 3. Estimate causal effect"
   ]
  },
  {
   "cell_type": "code",
   "execution_count": 11,
   "metadata": {},
   "outputs": [
    {
     "name": "stdout",
     "output_type": "stream",
     "text": [
      "propensity_score_stratification\n",
      "*** Causal Estimate ***\n",
      "\n",
      "## Identified estimand\n",
      "Estimand type: nonparametric-ate\n",
      "\n",
      "### Estimand : 1\n",
      "Estimand name: backdoor\n",
      "Estimand expression:\n",
      "  d                       \n",
      "─────(E[y|W3,W1,W2,W4,W0])\n",
      "d[v₀]                     \n",
      "Estimand assumption 1, Unconfoundedness: If U→{v0} and U→y then P(y|v0,W3,W1,W2,W4,W0,U) = P(y|v0,W3,W1,W2,W4,W0)\n",
      "\n",
      "## Realized estimand\n",
      "b: y~v0+W3+W1+W2+W4+W0\n",
      "Target units: ate\n",
      "\n",
      "## Estimate\n",
      "Mean value: 10.257618758277024\n",
      "\n"
     ]
    }
   ],
   "source": [
    "causal_estimate = model.estimate_effect(identified_estimand,\n",
    "        method_name=\"backdoor.propensity_score_stratification\")\n",
    "print(causal_estimate)"
   ]
  },
  {
   "cell_type": "code",
   "execution_count": 8,
   "metadata": {},
   "outputs": [
    {
     "name": "stdout",
     "output_type": "stream",
     "text": [
      "10.257618758277024\n"
     ]
    }
   ],
   "source": [
    "print(causal_estimate.value)"
   ]
  },
  {
   "cell_type": "markdown",
   "metadata": {},
   "source": [
    "# 4. Refute estimate"
   ]
  },
  {
   "cell_type": "code",
   "execution_count": 12,
   "metadata": {},
   "outputs": [
    {
     "name": "stdout",
     "output_type": "stream",
     "text": [
      "Refute: Add a random common cause\n",
      "Estimated effect:10.257618758277024\n",
      "New effect:10.248267927943052\n",
      "p value:0.45999999999999996\n",
      "\n"
     ]
    }
   ],
   "source": [
    "# Adding a random common cause variable\n",
    "res_random=model.refute_estimate(identified_estimand, causal_estimate,\n",
    "        method_name=\"random_common_cause\")\n",
    "print(res_random)"
   ]
  },
  {
   "cell_type": "code",
   "execution_count": 13,
   "metadata": {},
   "outputs": [
    {
     "name": "stdout",
     "output_type": "stream",
     "text": [
      "Refute: Use a Placebo Treatment\n",
      "Estimated effect:10.257618758277024\n",
      "New effect:0.004448677029791578\n",
      "p value:0.49\n",
      "\n"
     ]
    }
   ],
   "source": [
    "# Replacing treatment with a random (placebo) variable\n",
    "res_placebo=model.refute_estimate(identified_estimand, causal_estimate,\n",
    "        method_name=\"placebo_treatment_refuter\", placebo_type=\"permute\")\n",
    "print(res_placebo)\n"
   ]
  },
  {
   "cell_type": "code",
   "execution_count": 14,
   "metadata": {},
   "outputs": [
    {
     "name": "stdout",
     "output_type": "stream",
     "text": [
      "Refute: Use a subset of data\n",
      "Estimated effect:10.257618758277024\n",
      "New effect:10.220266223065927\n",
      "p value:0.37\n",
      "\n"
     ]
    }
   ],
   "source": [
    "# Removing a random subset of the data\n",
    "res_subset=model.refute_estimate(identified_estimand, causal_estimate,\n",
    "        method_name=\"data_subset_refuter\", subset_fraction=0.9)\n",
    "print(res_subset)"
   ]
  }
 ],
 "metadata": {
  "interpreter": {
   "hash": "9b7af7e9d6eedce7ff5306037041610c2910f6ce83bb9354e39a551835acf204"
  },
  "kernelspec": {
   "display_name": "Python 3.9.0 64-bit ('causality390': pyenv)",
   "language": "python",
   "name": "python3"
  },
  "language_info": {
   "codemirror_mode": {
    "name": "ipython",
    "version": 3
   },
   "file_extension": ".py",
   "mimetype": "text/x-python",
   "name": "python",
   "nbconvert_exporter": "python",
   "pygments_lexer": "ipython3",
   "version": "3.9.0"
  },
  "orig_nbformat": 4
 },
 "nbformat": 4,
 "nbformat_minor": 2
}
