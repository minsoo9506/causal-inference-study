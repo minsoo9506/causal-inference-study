{
 "cells": [
  {
   "cell_type": "markdown",
   "metadata": {},
   "source": [
    "- https://nbviewer.org/github/maks-sh/scikit-uplift/blob/master/notebooks/uplift_metrics_tutorial.ipynb#uplift@k-=-target-mean-at-k%-in-the-treatment-group---target-mean-at-k%-in-the-control-group\n",
    "- https://partrita.github.io/posts/python-uplift/"
   ]
  },
  {
   "cell_type": "markdown",
   "metadata": {},
   "source": [
    "- 다양한 오픈소스에서 uplift와 관련한 모델들을 제공해준다.\n",
    "- 하지만 이 노트북에서 직접 T-learner 방법론을 진행했다."
   ]
  },
  {
   "cell_type": "code",
   "execution_count": 23,
   "metadata": {},
   "outputs": [],
   "source": [
    "import warnings\n",
    "warnings.filterwarnings('ignore')"
   ]
  },
  {
   "cell_type": "markdown",
   "metadata": {},
   "source": [
    "# 0. dataset"
   ]
  },
  {
   "cell_type": "markdown",
   "metadata": {},
   "source": [
    "- This dataset contains 64,000 customers who last purchased within twelve months.\n",
    "- The customers were involved in an e-mail test:\n",
    "  - 1/3 were randomly chosen to receive an e-mail campaign featuring Mens merchandise.\n",
    "  - 1/3 were randomly chosen to receive an e-mail campaign featuring Womens merchandise.\n",
    "  - 1/3 were randomly chosen to not receive an e-mail campaign.\n",
    "- During a period of two weeks following the e-mail campaign, results were tracked.\n",
    "- **The task is to tell the world if the Mens or Womens e-mail campaign was successful.**\n",
    "\n",
    "따라서 treat group은 `Mens E-Mail`을 받았고 control group은 `Womens E-Mail`을 받았다. 이에 따라서 outcome은 `visit` 여부이다. RCT 데이터를 이용하여 treatment를 주면 더 효과적인 그룹 (타겟마케팅)을 알아보자."
   ]
  },
  {
   "cell_type": "code",
   "execution_count": 24,
   "metadata": {},
   "outputs": [
    {
     "name": "stdout",
     "output_type": "stream",
     "text": [
      "Shape of the dataset before processing: (64000, 10)\n"
     ]
    }
   ],
   "source": [
    "import pandas as pd\n",
    "from sklift.datasets import fetch_hillstrom\n",
    "\n",
    "bunch = fetch_hillstrom(target_col='visit')\n",
    "\n",
    "dataset, target, treatment = bunch['data'], bunch['target'], bunch['treatment']\n",
    "dataset['treatment'] = treatment\n",
    "dataset['visit'] = target\n",
    "\n",
    "print(f'Shape of the dataset before processing: {dataset.shape}')"
   ]
  },
  {
   "cell_type": "code",
   "execution_count": 25,
   "metadata": {},
   "outputs": [
    {
     "data": {
      "text/html": [
       "<div>\n",
       "<style scoped>\n",
       "    .dataframe tbody tr th:only-of-type {\n",
       "        vertical-align: middle;\n",
       "    }\n",
       "\n",
       "    .dataframe tbody tr th {\n",
       "        vertical-align: top;\n",
       "    }\n",
       "\n",
       "    .dataframe thead th {\n",
       "        text-align: right;\n",
       "    }\n",
       "</style>\n",
       "<table border=\"1\" class=\"dataframe\">\n",
       "  <thead>\n",
       "    <tr style=\"text-align: right;\">\n",
       "      <th></th>\n",
       "      <th>recency</th>\n",
       "      <th>history_segment</th>\n",
       "      <th>history</th>\n",
       "      <th>mens</th>\n",
       "      <th>womens</th>\n",
       "      <th>zip_code</th>\n",
       "      <th>newbie</th>\n",
       "      <th>channel</th>\n",
       "      <th>treatment</th>\n",
       "      <th>visit</th>\n",
       "    </tr>\n",
       "  </thead>\n",
       "  <tbody>\n",
       "    <tr>\n",
       "      <th>0</th>\n",
       "      <td>10</td>\n",
       "      <td>2) $100 - $200</td>\n",
       "      <td>142.44</td>\n",
       "      <td>1</td>\n",
       "      <td>0</td>\n",
       "      <td>Surburban</td>\n",
       "      <td>0</td>\n",
       "      <td>Phone</td>\n",
       "      <td>Womens E-Mail</td>\n",
       "      <td>0</td>\n",
       "    </tr>\n",
       "    <tr>\n",
       "      <th>1</th>\n",
       "      <td>6</td>\n",
       "      <td>3) $200 - $350</td>\n",
       "      <td>329.08</td>\n",
       "      <td>1</td>\n",
       "      <td>1</td>\n",
       "      <td>Rural</td>\n",
       "      <td>1</td>\n",
       "      <td>Web</td>\n",
       "      <td>No E-Mail</td>\n",
       "      <td>0</td>\n",
       "    </tr>\n",
       "    <tr>\n",
       "      <th>2</th>\n",
       "      <td>7</td>\n",
       "      <td>2) $100 - $200</td>\n",
       "      <td>180.65</td>\n",
       "      <td>0</td>\n",
       "      <td>1</td>\n",
       "      <td>Surburban</td>\n",
       "      <td>1</td>\n",
       "      <td>Web</td>\n",
       "      <td>Womens E-Mail</td>\n",
       "      <td>0</td>\n",
       "    </tr>\n",
       "    <tr>\n",
       "      <th>3</th>\n",
       "      <td>9</td>\n",
       "      <td>5) $500 - $750</td>\n",
       "      <td>675.83</td>\n",
       "      <td>1</td>\n",
       "      <td>0</td>\n",
       "      <td>Rural</td>\n",
       "      <td>1</td>\n",
       "      <td>Web</td>\n",
       "      <td>Mens E-Mail</td>\n",
       "      <td>0</td>\n",
       "    </tr>\n",
       "    <tr>\n",
       "      <th>4</th>\n",
       "      <td>2</td>\n",
       "      <td>1) $0 - $100</td>\n",
       "      <td>45.34</td>\n",
       "      <td>1</td>\n",
       "      <td>0</td>\n",
       "      <td>Urban</td>\n",
       "      <td>0</td>\n",
       "      <td>Web</td>\n",
       "      <td>Womens E-Mail</td>\n",
       "      <td>0</td>\n",
       "    </tr>\n",
       "  </tbody>\n",
       "</table>\n",
       "</div>"
      ],
      "text/plain": [
       "   recency history_segment  history  mens  womens   zip_code  newbie channel  \\\n",
       "0       10  2) $100 - $200   142.44     1       0  Surburban       0   Phone   \n",
       "1        6  3) $200 - $350   329.08     1       1      Rural       1     Web   \n",
       "2        7  2) $100 - $200   180.65     0       1  Surburban       1     Web   \n",
       "3        9  5) $500 - $750   675.83     1       0      Rural       1     Web   \n",
       "4        2    1) $0 - $100    45.34     1       0      Urban       0     Web   \n",
       "\n",
       "       treatment  visit  \n",
       "0  Womens E-Mail      0  \n",
       "1      No E-Mail      0  \n",
       "2  Womens E-Mail      0  \n",
       "3    Mens E-Mail      0  \n",
       "4  Womens E-Mail      0  "
      ]
     },
     "execution_count": 25,
     "metadata": {},
     "output_type": "execute_result"
    }
   ],
   "source": [
    "dataset.head()"
   ]
  },
  {
   "cell_type": "code",
   "execution_count": 26,
   "metadata": {},
   "outputs": [
    {
     "name": "stdout",
     "output_type": "stream",
     "text": [
      "(42694, 10)\n"
     ]
    }
   ],
   "source": [
    "mailed_df = dataset.loc[dataset['treatment'] != 'No E-Mail', :].reset_index(drop=True)\n",
    "print(mailed_df.shape)"
   ]
  },
  {
   "cell_type": "code",
   "execution_count": 27,
   "metadata": {},
   "outputs": [
    {
     "data": {
      "text/html": [
       "<div>\n",
       "<style scoped>\n",
       "    .dataframe tbody tr th:only-of-type {\n",
       "        vertical-align: middle;\n",
       "    }\n",
       "\n",
       "    .dataframe tbody tr th {\n",
       "        vertical-align: top;\n",
       "    }\n",
       "\n",
       "    .dataframe thead th {\n",
       "        text-align: right;\n",
       "    }\n",
       "</style>\n",
       "<table border=\"1\" class=\"dataframe\">\n",
       "  <thead>\n",
       "    <tr style=\"text-align: right;\">\n",
       "      <th></th>\n",
       "      <th>recency</th>\n",
       "      <th>history</th>\n",
       "      <th>mens</th>\n",
       "      <th>womens</th>\n",
       "      <th>newbie</th>\n",
       "      <th>treatment</th>\n",
       "      <th>visit</th>\n",
       "      <th>zip_code_Surburban</th>\n",
       "      <th>zip_code_Urban</th>\n",
       "      <th>channel_Phone</th>\n",
       "      <th>channel_Web</th>\n",
       "    </tr>\n",
       "  </thead>\n",
       "  <tbody>\n",
       "    <tr>\n",
       "      <th>0</th>\n",
       "      <td>10</td>\n",
       "      <td>142.44</td>\n",
       "      <td>1</td>\n",
       "      <td>0</td>\n",
       "      <td>0</td>\n",
       "      <td>0</td>\n",
       "      <td>0</td>\n",
       "      <td>1</td>\n",
       "      <td>0</td>\n",
       "      <td>1</td>\n",
       "      <td>0</td>\n",
       "    </tr>\n",
       "    <tr>\n",
       "      <th>1</th>\n",
       "      <td>7</td>\n",
       "      <td>180.65</td>\n",
       "      <td>0</td>\n",
       "      <td>1</td>\n",
       "      <td>1</td>\n",
       "      <td>0</td>\n",
       "      <td>0</td>\n",
       "      <td>1</td>\n",
       "      <td>0</td>\n",
       "      <td>0</td>\n",
       "      <td>1</td>\n",
       "    </tr>\n",
       "    <tr>\n",
       "      <th>2</th>\n",
       "      <td>9</td>\n",
       "      <td>675.83</td>\n",
       "      <td>1</td>\n",
       "      <td>0</td>\n",
       "      <td>1</td>\n",
       "      <td>1</td>\n",
       "      <td>0</td>\n",
       "      <td>0</td>\n",
       "      <td>0</td>\n",
       "      <td>0</td>\n",
       "      <td>1</td>\n",
       "    </tr>\n",
       "    <tr>\n",
       "      <th>3</th>\n",
       "      <td>2</td>\n",
       "      <td>45.34</td>\n",
       "      <td>1</td>\n",
       "      <td>0</td>\n",
       "      <td>0</td>\n",
       "      <td>0</td>\n",
       "      <td>0</td>\n",
       "      <td>0</td>\n",
       "      <td>1</td>\n",
       "      <td>0</td>\n",
       "      <td>1</td>\n",
       "    </tr>\n",
       "    <tr>\n",
       "      <th>4</th>\n",
       "      <td>6</td>\n",
       "      <td>134.83</td>\n",
       "      <td>0</td>\n",
       "      <td>1</td>\n",
       "      <td>0</td>\n",
       "      <td>0</td>\n",
       "      <td>1</td>\n",
       "      <td>1</td>\n",
       "      <td>0</td>\n",
       "      <td>1</td>\n",
       "      <td>0</td>\n",
       "    </tr>\n",
       "  </tbody>\n",
       "</table>\n",
       "</div>"
      ],
      "text/plain": [
       "   recency  history  mens  womens  newbie  treatment  visit  \\\n",
       "0       10   142.44     1       0       0          0      0   \n",
       "1        7   180.65     0       1       1          0      0   \n",
       "2        9   675.83     1       0       1          1      0   \n",
       "3        2    45.34     1       0       0          0      0   \n",
       "4        6   134.83     0       1       0          0      1   \n",
       "\n",
       "   zip_code_Surburban  zip_code_Urban  channel_Phone  channel_Web  \n",
       "0                   1               0              1            0  \n",
       "1                   1               0              0            1  \n",
       "2                   0               0              0            1  \n",
       "3                   0               1              0            1  \n",
       "4                   1               0              1            0  "
      ]
     },
     "execution_count": 27,
     "metadata": {},
     "output_type": "execute_result"
    }
   ],
   "source": [
    "dummied_df = pd.get_dummies(mailed_df[[\"zip_code\", \"channel\"]], drop_first=True)\n",
    "\n",
    "#  필요없는 행을 지운다\n",
    "feature_vector_df = mailed_df.drop([\"history_segment\", \"zip_code\", \"channel\"], axis=1)\n",
    "feature_vector_df = feature_vector_df.join(dummied_df)\n",
    "\n",
    "def treatment_change(x):\n",
    "    if x == 'Mens E-Mail':\n",
    "        return 1\n",
    "    else:\n",
    "        return 0\n",
    "\n",
    "feature_vector_df['treatment'] = feature_vector_df['treatment'].map(treatment_change)\n",
    "feature_vector_df.head()"
   ]
  },
  {
   "cell_type": "markdown",
   "metadata": {},
   "source": [
    "# 1. 학습하기"
   ]
  },
  {
   "cell_type": "code",
   "execution_count": 28,
   "metadata": {},
   "outputs": [],
   "source": [
    "from sklearn.model_selection import train_test_split"
   ]
  },
  {
   "cell_type": "code",
   "execution_count": 29,
   "metadata": {},
   "outputs": [],
   "source": [
    "# 학습용, 테스트 데이터 나누기\n",
    "train_feature_df, test_feature_df \\\n",
    "    = train_test_split(feature_vector_df, test_size=0.5, random_state=0)"
   ]
  },
  {
   "cell_type": "code",
   "execution_count": 30,
   "metadata": {},
   "outputs": [],
   "source": [
    "from sklearn.linear_model import LogisticRegression"
   ]
  },
  {
   "cell_type": "code",
   "execution_count": 31,
   "metadata": {},
   "outputs": [
    {
     "data": {
      "text/plain": [
       "LogisticRegression()"
      ]
     },
     "execution_count": 31,
     "metadata": {},
     "output_type": "execute_result"
    }
   ],
   "source": [
    "treat_model = LogisticRegression()\n",
    "control_model = LogisticRegression()\n",
    "\n",
    "# treat와 control그룹을 나눈다\n",
    "treat_is_visit = train_feature_df.loc[train_feature_df['treatment']==1, 'visit']\n",
    "treat_feature_df = train_feature_df.loc[train_feature_df['treatment']==1, :].drop(['treatment', 'visit'], axis=1)\n",
    "\n",
    "control_is_visit =  train_feature_df.loc[train_feature_df['treatment']==0, 'visit']\n",
    "control_feature_df = train_feature_df.loc[train_feature_df['treatment']==0, :].drop(['treatment', 'visit'], axis=1)\n",
    "\n",
    "# 이들을 각각의 모델을 이용하여 visit 여부를 예측\n",
    "treat_model.fit(treat_feature_df, treat_is_visit)\n",
    "control_model.fit(control_feature_df, control_is_visit)"
   ]
  },
  {
   "cell_type": "markdown",
   "metadata": {},
   "source": [
    "# 2. 모델 평가"
   ]
  },
  {
   "cell_type": "code",
   "execution_count": 32,
   "metadata": {},
   "outputs": [],
   "source": [
    "treat_control_test_feature_df = test_feature_df.drop(['treatment','visit'], axis=1)\n",
    "\n",
    "# test 데이터 예측값\n",
    "treat_score = treat_model.predict_proba(treat_control_test_feature_df)\n",
    "control_score = control_model.predict_proba(treat_control_test_feature_df)"
   ]
  },
  {
   "cell_type": "code",
   "execution_count": 33,
   "metadata": {},
   "outputs": [],
   "source": [
    "# uplift score\n",
    "# visit할 (visit==1) 확률을 이용\n",
    "# 즉, 고객이 treat 받았을 때의 visit 확률이 treat를 받지 않았을 때의 visit 확률보다 얼마나 큰지\n",
    "score_list = treat_score[:,1] - control_score[:,1]"
   ]
  },
  {
   "cell_type": "code",
   "execution_count": 34,
   "metadata": {},
   "outputs": [],
   "source": [
    "result = list(zip(test_feature_df['visit'], test_feature_df['treatment'], score_list))\n",
    "# score_list가 높은 순서대로 (내림차순) 정렬\n",
    "result.sort(key=lambda x: x[2], reverse=True)"
   ]
  },
  {
   "cell_type": "markdown",
   "metadata": {},
   "source": [
    "## 2.1 백분위수 단위로 전환율 확인"
   ]
  },
  {
   "cell_type": "code",
   "execution_count": 35,
   "metadata": {},
   "outputs": [],
   "source": [
    "import matplotlib.pyplot as plt"
   ]
  },
  {
   "cell_type": "code",
   "execution_count": 49,
   "metadata": {},
   "outputs": [],
   "source": [
    "result_df = pd.DataFrame()\n",
    "result_df['visit'] = test_feature_df['visit']\n",
    "result_df['treatment'] = test_feature_df['treatment']\n",
    "result_df['uplift_score'] = score_list\n",
    "\n",
    "result_df = result_df.sort_values('uplift_score', ascending=False).reset_index(drop=True)\n",
    "\n",
    "# pd.qcut: 동일 갯수로 나누어서 범주를 만든다 (bucket마다 동일한 갯수의 데이터가 들어감)\n",
    "q = 10\n",
    "result_df['percentile'] = pd.qcut(result_df['uplift_score'], q, labels=False)"
   ]
  },
  {
   "cell_type": "code",
   "execution_count": 50,
   "metadata": {},
   "outputs": [
    {
     "data": {
      "text/html": [
       "<div>\n",
       "<style scoped>\n",
       "    .dataframe tbody tr th:only-of-type {\n",
       "        vertical-align: middle;\n",
       "    }\n",
       "\n",
       "    .dataframe tbody tr th {\n",
       "        vertical-align: top;\n",
       "    }\n",
       "\n",
       "    .dataframe thead th {\n",
       "        text-align: right;\n",
       "    }\n",
       "</style>\n",
       "<table border=\"1\" class=\"dataframe\">\n",
       "  <thead>\n",
       "    <tr style=\"text-align: right;\">\n",
       "      <th></th>\n",
       "      <th>visit</th>\n",
       "      <th>treatment</th>\n",
       "      <th>uplift_score</th>\n",
       "      <th>percentile</th>\n",
       "    </tr>\n",
       "  </thead>\n",
       "  <tbody>\n",
       "    <tr>\n",
       "      <th>0</th>\n",
       "      <td>0</td>\n",
       "      <td>0</td>\n",
       "      <td>0.139287</td>\n",
       "      <td>9</td>\n",
       "    </tr>\n",
       "    <tr>\n",
       "      <th>1</th>\n",
       "      <td>0</td>\n",
       "      <td>0</td>\n",
       "      <td>0.133194</td>\n",
       "      <td>9</td>\n",
       "    </tr>\n",
       "    <tr>\n",
       "      <th>2</th>\n",
       "      <td>1</td>\n",
       "      <td>0</td>\n",
       "      <td>0.132982</td>\n",
       "      <td>9</td>\n",
       "    </tr>\n",
       "    <tr>\n",
       "      <th>3</th>\n",
       "      <td>1</td>\n",
       "      <td>1</td>\n",
       "      <td>0.132974</td>\n",
       "      <td>9</td>\n",
       "    </tr>\n",
       "    <tr>\n",
       "      <th>4</th>\n",
       "      <td>0</td>\n",
       "      <td>0</td>\n",
       "      <td>0.132790</td>\n",
       "      <td>9</td>\n",
       "    </tr>\n",
       "  </tbody>\n",
       "</table>\n",
       "</div>"
      ],
      "text/plain": [
       "   visit  treatment  uplift_score  percentile\n",
       "0      0          0      0.139287           9\n",
       "1      0          0      0.133194           9\n",
       "2      1          0      0.132982           9\n",
       "3      1          1      0.132974           9\n",
       "4      0          0      0.132790           9"
      ]
     },
     "execution_count": 50,
     "metadata": {},
     "output_type": "execute_result"
    }
   ],
   "source": [
    "result_df.head()"
   ]
  },
  {
   "cell_type": "code",
   "execution_count": 56,
   "metadata": {},
   "outputs": [],
   "source": [
    "qdf = pd.DataFrame(columns=['treat_visit_rate', 'control_visit_rate'])\n",
    "\n",
    "for i in range(9, -1, -1):\n",
    "    percentile_df = result_df.loc[result_df['percentile'] == i, :]\n",
    "    num_treat = sum(percentile_df['treatment'] == 1)\n",
    "    num_control = sum(percentile_df['treatment'] == 0)\n",
    "    num_treat_visit = sum((percentile_df['treatment'] == 1) & (percentile_df['visit'] == 1))\n",
    "    num_control_visit = sum((percentile_df['treatment'] == 0) & (percentile_df['visit'] == 1))\n",
    "\n",
    "    idx = f'percentile {(10 - i) * 10}%'\n",
    "    qdf.loc[idx] =  [num_treat_visit / num_treat, num_control_visit / num_control]"
   ]
  },
  {
   "cell_type": "markdown",
   "metadata": {},
   "source": [
    "- uplift가 높은 상위 50%에서는 확실히 treat의 효과가 크다고 할 수 있다.\n",
    "- 하지만 70%, 80% 구간에서는 오히려 역전되기도 한다.\n",
    "- 따라서 uplift score가 높은 상위 유저들에게만 treat를 해주는게 효과적이다."
   ]
  },
  {
   "cell_type": "code",
   "execution_count": 57,
   "metadata": {},
   "outputs": [
    {
     "data": {
      "text/plain": [
       "Text(0, 0.5, 'visit rate')"
      ]
     },
     "execution_count": 57,
     "metadata": {},
     "output_type": "execute_result"
    },
    {
     "data": {
      "image/png": "[encoded data removed]",
      "text/plain": [
       "<Figure size 432x288 with 1 Axes>"
      ]
     },
     "metadata": {
      "needs_background": "light"
     },
     "output_type": "display_data"
    }
   ],
   "source": [
    "qdf.plot.bar()\n",
    "plt.xlabel(\"percentile\")\n",
    "plt.ylabel(\"visit rate\")"
   ]
  },
  {
   "cell_type": "markdown",
   "metadata": {},
   "source": [
    "## 2.2 `sklift` 이용"
   ]
  },
  {
   "cell_type": "markdown",
   "metadata": {},
   "source": [
    "- uplift@k = target mean at k% in the treatment group - target mean at k% in the control group\n",
    "\n",
    "- How to count uplift@k:\n",
    "1. sort by predicted uplift\n",
    "2. select first k%\n",
    "3. count target mean in the treatment group\n",
    "4. count target mean in the control group\n",
    "5. substract the mean in the control group from the mean in the treatment group\n"
   ]
  },
  {
   "cell_type": "code",
   "execution_count": 41,
   "metadata": {},
   "outputs": [
    {
     "name": "stdout",
     "output_type": "stream",
     "text": [
      "uplift@30%: 0.0592 (sort groups by uplift together)\n",
      "uplift@30%: 0.0613 (sort groups by uplift separately)\n"
     ]
    }
   ],
   "source": [
    "from sklift.metrics import uplift_at_k\n",
    "\n",
    "k = 0.3  \n",
    "\n",
    "# strategy='overall' sort by uplift treatment and control together\n",
    "uplift_overall = uplift_at_k(test_feature_df['visit'], score_list, test_feature_df['treatment'], strategy='overall', k=k)\n",
    "\n",
    "# strategy='by_group' sort by uplift treatment and control separately\n",
    "uplift_bygroup = uplift_at_k(test_feature_df['visit'], score_list, test_feature_df['treatment'], strategy='by_group', k=k)\n",
    "\n",
    "\n",
    "print(f\"uplift@{k * 100:.0f}%: {uplift_overall:.4f} (sort groups by uplift together)\")\n",
    "print(f\"uplift@{k * 100:.0f}%: {uplift_bygroup:.4f} (sort groups by uplift separately)\")"
   ]
  },
  {
   "cell_type": "code",
   "execution_count": 36,
   "metadata": {},
   "outputs": [
    {
     "data": {
      "text/html": [
       "<div>\n",
       "<style scoped>\n",
       "    .dataframe tbody tr th:only-of-type {\n",
       "        vertical-align: middle;\n",
       "    }\n",
       "\n",
       "    .dataframe tbody tr th {\n",
       "        vertical-align: top;\n",
       "    }\n",
       "\n",
       "    .dataframe thead th {\n",
       "        text-align: right;\n",
       "    }\n",
       "</style>\n",
       "<table border=\"1\" class=\"dataframe\">\n",
       "  <thead>\n",
       "    <tr style=\"text-align: right;\">\n",
       "      <th></th>\n",
       "      <th>n_treatment</th>\n",
       "      <th>n_control</th>\n",
       "      <th>response_rate_treatment</th>\n",
       "      <th>response_rate_control</th>\n",
       "      <th>uplift</th>\n",
       "      <th>std_treatment</th>\n",
       "      <th>std_control</th>\n",
       "      <th>std_uplift</th>\n",
       "    </tr>\n",
       "    <tr>\n",
       "      <th>percentile</th>\n",
       "      <th></th>\n",
       "      <th></th>\n",
       "      <th></th>\n",
       "      <th></th>\n",
       "      <th></th>\n",
       "      <th></th>\n",
       "      <th></th>\n",
       "      <th></th>\n",
       "    </tr>\n",
       "  </thead>\n",
       "  <tbody>\n",
       "    <tr>\n",
       "      <th>0-10</th>\n",
       "      <td>1061</td>\n",
       "      <td>1074</td>\n",
       "      <td>0.255419</td>\n",
       "      <td>0.185289</td>\n",
       "      <td>0.070131</td>\n",
       "      <td>0.013388</td>\n",
       "      <td>0.011856</td>\n",
       "      <td>0.017883</td>\n",
       "    </tr>\n",
       "    <tr>\n",
       "      <th>10-20</th>\n",
       "      <td>1009</td>\n",
       "      <td>1126</td>\n",
       "      <td>0.222002</td>\n",
       "      <td>0.161634</td>\n",
       "      <td>0.060368</td>\n",
       "      <td>0.013083</td>\n",
       "      <td>0.010970</td>\n",
       "      <td>0.017074</td>\n",
       "    </tr>\n",
       "    <tr>\n",
       "      <th>20-30</th>\n",
       "      <td>1083</td>\n",
       "      <td>1052</td>\n",
       "      <td>0.182825</td>\n",
       "      <td>0.134030</td>\n",
       "      <td>0.048795</td>\n",
       "      <td>0.011745</td>\n",
       "      <td>0.010504</td>\n",
       "      <td>0.015757</td>\n",
       "    </tr>\n",
       "    <tr>\n",
       "      <th>30-40</th>\n",
       "      <td>1075</td>\n",
       "      <td>1060</td>\n",
       "      <td>0.167442</td>\n",
       "      <td>0.132075</td>\n",
       "      <td>0.035366</td>\n",
       "      <td>0.011388</td>\n",
       "      <td>0.010399</td>\n",
       "      <td>0.015421</td>\n",
       "    </tr>\n",
       "    <tr>\n",
       "      <th>40-50</th>\n",
       "      <td>1026</td>\n",
       "      <td>1109</td>\n",
       "      <td>0.136452</td>\n",
       "      <td>0.101894</td>\n",
       "      <td>0.034559</td>\n",
       "      <td>0.010717</td>\n",
       "      <td>0.009084</td>\n",
       "      <td>0.014049</td>\n",
       "    </tr>\n",
       "    <tr>\n",
       "      <th>50-60</th>\n",
       "      <td>1088</td>\n",
       "      <td>1047</td>\n",
       "      <td>0.188419</td>\n",
       "      <td>0.165234</td>\n",
       "      <td>0.023185</td>\n",
       "      <td>0.011855</td>\n",
       "      <td>0.011478</td>\n",
       "      <td>0.016501</td>\n",
       "    </tr>\n",
       "    <tr>\n",
       "      <th>60-70</th>\n",
       "      <td>1089</td>\n",
       "      <td>1046</td>\n",
       "      <td>0.163453</td>\n",
       "      <td>0.173040</td>\n",
       "      <td>-0.009587</td>\n",
       "      <td>0.011205</td>\n",
       "      <td>0.011696</td>\n",
       "      <td>0.016198</td>\n",
       "    </tr>\n",
       "    <tr>\n",
       "      <th>70-80</th>\n",
       "      <td>1064</td>\n",
       "      <td>1070</td>\n",
       "      <td>0.137218</td>\n",
       "      <td>0.155140</td>\n",
       "      <td>-0.017922</td>\n",
       "      <td>0.010548</td>\n",
       "      <td>0.011068</td>\n",
       "      <td>0.015289</td>\n",
       "    </tr>\n",
       "    <tr>\n",
       "      <th>80-90</th>\n",
       "      <td>1067</td>\n",
       "      <td>1067</td>\n",
       "      <td>0.141518</td>\n",
       "      <td>0.131209</td>\n",
       "      <td>0.010309</td>\n",
       "      <td>0.010671</td>\n",
       "      <td>0.010336</td>\n",
       "      <td>0.014856</td>\n",
       "    </tr>\n",
       "    <tr>\n",
       "      <th>90-100</th>\n",
       "      <td>1056</td>\n",
       "      <td>1078</td>\n",
       "      <td>0.207386</td>\n",
       "      <td>0.168831</td>\n",
       "      <td>0.038555</td>\n",
       "      <td>0.012476</td>\n",
       "      <td>0.011409</td>\n",
       "      <td>0.016907</td>\n",
       "    </tr>\n",
       "    <tr>\n",
       "      <th>total</th>\n",
       "      <td>10618</td>\n",
       "      <td>10729</td>\n",
       "      <td>0.180072</td>\n",
       "      <td>0.150713</td>\n",
       "      <td>0.029359</td>\n",
       "      <td>0.117077</td>\n",
       "      <td>0.108800</td>\n",
       "      <td>0.159935</td>\n",
       "    </tr>\n",
       "  </tbody>\n",
       "</table>\n",
       "</div>"
      ],
      "text/plain": [
       "            n_treatment  n_control  response_rate_treatment  \\\n",
       "percentile                                                    \n",
       "0-10               1061       1074                 0.255419   \n",
       "10-20              1009       1126                 0.222002   \n",
       "20-30              1083       1052                 0.182825   \n",
       "30-40              1075       1060                 0.167442   \n",
       "40-50              1026       1109                 0.136452   \n",
       "50-60              1088       1047                 0.188419   \n",
       "60-70              1089       1046                 0.163453   \n",
       "70-80              1064       1070                 0.137218   \n",
       "80-90              1067       1067                 0.141518   \n",
       "90-100             1056       1078                 0.207386   \n",
       "total             10618      10729                 0.180072   \n",
       "\n",
       "            response_rate_control    uplift  std_treatment  std_control  \\\n",
       "percentile                                                                \n",
       "0-10                     0.185289  0.070131       0.013388     0.011856   \n",
       "10-20                    0.161634  0.060368       0.013083     0.010970   \n",
       "20-30                    0.134030  0.048795       0.011745     0.010504   \n",
       "30-40                    0.132075  0.035366       0.011388     0.010399   \n",
       "40-50                    0.101894  0.034559       0.010717     0.009084   \n",
       "50-60                    0.165234  0.023185       0.011855     0.011478   \n",
       "60-70                    0.173040 -0.009587       0.011205     0.011696   \n",
       "70-80                    0.155140 -0.017922       0.010548     0.011068   \n",
       "80-90                    0.131209  0.010309       0.010671     0.010336   \n",
       "90-100                   0.168831  0.038555       0.012476     0.011409   \n",
       "total                    0.150713  0.029359       0.117077     0.108800   \n",
       "\n",
       "            std_uplift  \n",
       "percentile              \n",
       "0-10          0.017883  \n",
       "10-20         0.017074  \n",
       "20-30         0.015757  \n",
       "30-40         0.015421  \n",
       "40-50         0.014049  \n",
       "50-60         0.016501  \n",
       "60-70         0.016198  \n",
       "70-80         0.015289  \n",
       "80-90         0.014856  \n",
       "90-100        0.016907  \n",
       "total         0.159935  "
      ]
     },
     "execution_count": 36,
     "metadata": {},
     "output_type": "execute_result"
    }
   ],
   "source": [
    "from sklift.metrics import uplift_by_percentile\n",
    "\n",
    "uplift_by_percentile(test_feature_df['visit'], score_list, test_feature_df['treatment'], \n",
    "                     strategy='overall', \n",
    "                     total=True, std=True, bins=10)"
   ]
  },
  {
   "cell_type": "markdown",
   "metadata": {},
   "source": [
    "- 따라서 아래의 경우 대략 상위 50%에는 treat(man mail)이 더 효과적이고 나머지는 treat이 아닌(woman mail)이 더 효과적이라고 할 수 있다. "
   ]
  },
  {
   "cell_type": "code",
   "execution_count": 37,
   "metadata": {},
   "outputs": [
    {
     "data": {
      "image/png": "[encoded data removed]",
      "text/plain": [
       "<Figure size 576x432 with 1 Axes>"
      ]
     },
     "metadata": {
      "needs_background": "light"
     },
     "output_type": "display_data"
    }
   ],
   "source": [
    "from sklift.viz import plot_uplift_by_percentile\n",
    "# line plot\n",
    "plot_uplift_by_percentile(test_feature_df['visit'], score_list, test_feature_df['treatment'], strategy='overall', kind='line');"
   ]
  },
  {
   "cell_type": "code",
   "execution_count": 38,
   "metadata": {},
   "outputs": [
    {
     "data": {
      "image/png": "[encoded data removed]",
      "text/plain": [
       "<Figure size 576x432 with 2 Axes>"
      ]
     },
     "metadata": {
      "needs_background": "light"
     },
     "output_type": "display_data"
    }
   ],
   "source": [
    "plot_uplift_by_percentile(test_feature_df['visit'], score_list, test_feature_df['treatment'], strategy='overall', kind='bar');"
   ]
  }
 ],
 "metadata": {
  "interpreter": {
   "hash": "9b7af7e9d6eedce7ff5306037041610c2910f6ce83bb9354e39a551835acf204"
  },
  "kernelspec": {
   "display_name": "Python 3.9.0 64-bit ('causality390': pyenv)",
   "language": "python",
   "name": "python3"
  },
  "language_info": {
   "codemirror_mode": {
    "name": "ipython",
    "version": 3
   },
   "file_extension": ".py",
   "mimetype": "text/x-python",
   "name": "python",
   "nbconvert_exporter": "python",
   "pygments_lexer": "ipython3",
   "version": "3.9.0"
  },
  "orig_nbformat": 4
 },
 "nbformat": 4,
 "nbformat_minor": 2
}
