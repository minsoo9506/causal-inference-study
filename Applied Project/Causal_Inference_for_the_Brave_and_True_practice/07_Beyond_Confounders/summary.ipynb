{
 "cells": [
  {
   "cell_type": "markdown",
   "metadata": {},
   "source": [
    "# Beyond Confounders"
   ]
  },
  {
   "cell_type": "markdown",
   "metadata": {},
   "source": [
    "- causal effect를 구할 떄, confounder를 control하는 것은 필수이다.\n",
    "- 그렇다면 confounder가 아닌 변수들에 대해 control하는 것이 올바른 방법일까? 이들에 대해 3가지 시나리오를 알아보자.\n",
    "  - Good\n",
    "  - Harmful\n",
    "  - Bad"
   ]
  },
  {
   "cell_type": "markdown",
   "metadata": {},
   "source": [
    "## Good Control"
   ]
  },
  {
   "cell_type": "markdown",
   "metadata": {},
   "source": [
    "- 먼저 control을 했을 때, 좋은 경우에 대해 알아보자.\n",
    "- 연체자에게 메일을 보내는 것(treatment)이 돈을 돌려받는 것에 효과적인지 알고 싶다.\n",
    "- 아래의 데이터는 random하게 뽑은 대상들이다."
   ]
  },
  {
   "cell_type": "code",
   "execution_count": 10,
   "metadata": {},
   "outputs": [],
   "source": [
    "import pandas as pd\n",
    "import numpy as np\n",
    "import statsmodels.formula.api as sm\n",
    "import graphviz as gr"
   ]
  },
  {
   "cell_type": "code",
   "execution_count": 3,
   "metadata": {},
   "outputs": [
    {
     "data": {
      "text/html": [
       "<div>\n",
       "<style scoped>\n",
       "    .dataframe tbody tr th:only-of-type {\n",
       "        vertical-align: middle;\n",
       "    }\n",
       "\n",
       "    .dataframe tbody tr th {\n",
       "        vertical-align: top;\n",
       "    }\n",
       "\n",
       "    .dataframe thead th {\n",
       "        text-align: right;\n",
       "    }\n",
       "</style>\n",
       "<table border=\"1\" class=\"dataframe\">\n",
       "  <thead>\n",
       "    <tr style=\"text-align: right;\">\n",
       "      <th></th>\n",
       "      <th>payments</th>\n",
       "      <th>email</th>\n",
       "      <th>opened</th>\n",
       "      <th>agreement</th>\n",
       "      <th>credit_limit</th>\n",
       "      <th>risk_score</th>\n",
       "    </tr>\n",
       "  </thead>\n",
       "  <tbody>\n",
       "    <tr>\n",
       "      <th>0</th>\n",
       "      <td>740</td>\n",
       "      <td>1</td>\n",
       "      <td>1.0</td>\n",
       "      <td>0.0</td>\n",
       "      <td>2348.495260</td>\n",
       "      <td>0.666752</td>\n",
       "    </tr>\n",
       "    <tr>\n",
       "      <th>1</th>\n",
       "      <td>580</td>\n",
       "      <td>1</td>\n",
       "      <td>1.0</td>\n",
       "      <td>1.0</td>\n",
       "      <td>334.111969</td>\n",
       "      <td>0.207395</td>\n",
       "    </tr>\n",
       "    <tr>\n",
       "      <th>2</th>\n",
       "      <td>600</td>\n",
       "      <td>1</td>\n",
       "      <td>1.0</td>\n",
       "      <td>1.0</td>\n",
       "      <td>1360.660722</td>\n",
       "      <td>0.550479</td>\n",
       "    </tr>\n",
       "  </tbody>\n",
       "</table>\n",
       "</div>"
      ],
      "text/plain": [
       "   payments  email  opened  agreement  credit_limit  risk_score\n",
       "0       740      1     1.0        0.0   2348.495260    0.666752\n",
       "1       580      1     1.0        1.0    334.111969    0.207395\n",
       "2       600      1     1.0        1.0   1360.660722    0.550479"
      ]
     },
     "execution_count": 3,
     "metadata": {},
     "output_type": "execute_result"
    }
   ],
   "source": [
    "data = pd.read_csv('../data/collections_email.csv')\n",
    "data.head(3)"
   ]
  },
  {
   "cell_type": "code",
   "execution_count": 6,
   "metadata": {},
   "outputs": [
    {
     "data": {
      "text/html": [
       "<table class=\"simpletable\">\n",
       "<tr>\n",
       "      <td></td>         <th>coef</th>     <th>std err</th>      <th>t</th>      <th>P>|t|</th>  <th>[0.025</th>    <th>0.975]</th>  \n",
       "</tr>\n",
       "<tr>\n",
       "  <th>Intercept</th> <td>  669.9764</td> <td>    2.061</td> <td>  325.116</td> <td> 0.000</td> <td>  665.937</td> <td>  674.016</td>\n",
       "</tr>\n",
       "<tr>\n",
       "  <th>email</th>     <td>   -0.6203</td> <td>    2.941</td> <td>   -0.211</td> <td> 0.833</td> <td>   -6.387</td> <td>    5.146</td>\n",
       "</tr>\n",
       "</table>"
      ],
      "text/plain": [
       "<class 'statsmodels.iolib.table.SimpleTable'>"
      ]
     },
     "execution_count": 6,
     "metadata": {},
     "output_type": "execute_result"
    }
   ],
   "source": [
    "model = sm.ols('payments ~ email', data=data).fit()\n",
    "model.summary().tables[1]"
   ]
  },
  {
   "cell_type": "markdown",
   "metadata": {},
   "source": [
    "- email만을 control하면 계수가 음수가 나온다.\n",
    "- 또한 p-value가 높게 나온다.\n",
    "- 왜그럴까?\n",
    "  - `payments`의 variability가 email이 아닌 다른 변수로 더 많이 설명가능하기 때문\n",
    "- 그렇다면 더 좋은 값을 얻기 위해서는?\n",
    "  - 다른 변수들을 이용해보자"
   ]
  },
  {
   "cell_type": "code",
   "execution_count": 7,
   "metadata": {},
   "outputs": [
    {
     "data": {
      "text/html": [
       "<table class=\"simpletable\">\n",
       "<tr>\n",
       "        <td></td>          <th>coef</th>     <th>std err</th>      <th>t</th>      <th>P>|t|</th>  <th>[0.025</th>    <th>0.975]</th>  \n",
       "</tr>\n",
       "<tr>\n",
       "  <th>Intercept</th>    <td>  490.8653</td> <td>    9.715</td> <td>   50.527</td> <td> 0.000</td> <td>  471.820</td> <td>  509.911</td>\n",
       "</tr>\n",
       "<tr>\n",
       "  <th>email</th>        <td>    4.4304</td> <td>    2.130</td> <td>    2.080</td> <td> 0.038</td> <td>    0.255</td> <td>    8.606</td>\n",
       "</tr>\n",
       "<tr>\n",
       "  <th>credit_limit</th> <td>    0.1511</td> <td>    0.008</td> <td>   18.833</td> <td> 0.000</td> <td>    0.135</td> <td>    0.167</td>\n",
       "</tr>\n",
       "<tr>\n",
       "  <th>risk_score</th>   <td>   -8.0516</td> <td>   38.424</td> <td>   -0.210</td> <td> 0.834</td> <td>  -83.379</td> <td>   67.276</td>\n",
       "</tr>\n",
       "</table>"
      ],
      "text/plain": [
       "<class 'statsmodels.iolib.table.SimpleTable'>"
      ]
     },
     "execution_count": 7,
     "metadata": {},
     "output_type": "execute_result"
    }
   ],
   "source": [
    "model_1 = sm.ols('payments ~ email + credit_limit + risk_score', data=data).fit()\n",
    "model_1.summary().tables[1]"
   ]
  },
  {
   "cell_type": "markdown",
   "metadata": {},
   "source": [
    "- 다른 변수들을 추가하니 email이 긍정적인 효과가 있다고 한다.\n",
    "- 또한 p-value도 낮아졌다\n",
    "- 더 좋은 causal effect를 구했다고 할 수 있다."
   ]
  },
  {
   "cell_type": "markdown",
   "metadata": {},
   "source": [
    "- 그렇다면 `credit_limit`, `risk_score` 는 confounder라고 할 수 있을까?\n",
    "- 아니다.\n",
    "  - 일단 해당 데이터는 email 수신여부와 상관없이 random하게 뽑았기 때문에 RCT의 상황으로 이해할 수 있다.\n",
    "  - 또한 아래에서처럼 `email`의 기존 variance과 `email`에 대해 위 두 변수를 fit한 residual의 variance가 거의 동일하다."
   ]
  },
  {
   "cell_type": "code",
   "execution_count": 9,
   "metadata": {},
   "outputs": [
    {
     "name": "stdout",
     "output_type": "stream",
     "text": [
      "Email original Var = 0.24991536\n",
      "Email Residual Var = 0.24918421069820032\n"
     ]
    }
   ],
   "source": [
    "model_email = sm.ols('email ~ credit_limit + risk_score', data=data).fit()\n",
    "email_resid = model_email.resid\n",
    "print(f\"Email original Var = {np.var(data['email'])}\")\n",
    "print(f\"Email Residual Var = {np.var(email_resid)}\")"
   ]
  },
  {
   "cell_type": "code",
   "execution_count": 11,
   "metadata": {},
   "outputs": [
    {
     "data": {
      "image/svg+xml": "<?xml version=\"1.0\" encoding=\"UTF-8\" standalone=\"no\"?>\n<!DOCTYPE svg PUBLIC \"-//W3C//DTD SVG 1.1//EN\"\n \"http://www.w3.org/Graphics/SVG/1.1/DTD/svg11.dtd\">\n<!-- Generated by graphviz version 3.0.0 (20220226.1711)\n -->\n<!-- Pages: 1 -->\n<svg width=\"303pt\" height=\"116pt\"\n viewBox=\"0.00 0.00 303.34 116.00\" xmlns=\"http://www.w3.org/2000/svg\" xmlns:xlink=\"http://www.w3.org/1999/xlink\">\n<g id=\"graph0\" class=\"graph\" transform=\"scale(1 1) rotate(0) translate(4 112)\">\n<polygon fill=\"white\" stroke=\"transparent\" points=\"-4,4 -4,-112 299.34,-112 299.34,4 -4,4\"/>\n<!-- email -->\n<g id=\"node1\" class=\"node\">\n<title>email</title>\n<ellipse fill=\"none\" stroke=\"gold\" cx=\"30.55\" cy=\"-90\" rx=\"30.59\" ry=\"18\"/>\n<text text-anchor=\"middle\" x=\"30.55\" y=\"-86.3\" font-family=\"Times,serif\" font-size=\"14.00\">email</text>\n</g>\n<!-- payments -->\n<g id=\"node3\" class=\"node\">\n<title>payments</title>\n<ellipse fill=\"none\" stroke=\"black\" cx=\"131.55\" cy=\"-18\" rx=\"44.69\" ry=\"18\"/>\n<text text-anchor=\"middle\" x=\"131.55\" y=\"-14.3\" font-family=\"Times,serif\" font-size=\"14.00\">payments</text>\n</g>\n<!-- email&#45;&gt;payments -->\n<g id=\"edge3\" class=\"edge\">\n<title>email&#45;&gt;payments</title>\n<path fill=\"none\" stroke=\"black\" d=\"M49.54,-75.83C64.14,-65.72 84.59,-51.55 101.41,-39.89\"/>\n<polygon fill=\"black\" stroke=\"black\" points=\"103.6,-42.62 109.83,-34.05 99.62,-36.87 103.6,-42.62\"/>\n</g>\n<!-- credit_limit -->\n<g id=\"node2\" class=\"node\">\n<title>credit_limit</title>\n<ellipse fill=\"none\" stroke=\"black\" cx=\"131.55\" cy=\"-90\" rx=\"51.99\" ry=\"18\"/>\n<text text-anchor=\"middle\" x=\"131.55\" y=\"-86.3\" font-family=\"Times,serif\" font-size=\"14.00\">credit_limit</text>\n</g>\n<!-- credit_limit&#45;&gt;payments -->\n<g id=\"edge1\" class=\"edge\">\n<title>credit_limit&#45;&gt;payments</title>\n<path fill=\"none\" stroke=\"black\" d=\"M131.55,-71.7C131.55,-63.98 131.55,-54.71 131.55,-46.11\"/>\n<polygon fill=\"black\" stroke=\"black\" points=\"135.05,-46.1 131.55,-36.1 128.05,-46.1 135.05,-46.1\"/>\n</g>\n<!-- risk_score -->\n<g id=\"node4\" class=\"node\">\n<title>risk_score</title>\n<ellipse fill=\"none\" stroke=\"black\" cx=\"248.55\" cy=\"-90\" rx=\"46.59\" ry=\"18\"/>\n<text text-anchor=\"middle\" x=\"248.55\" y=\"-86.3\" font-family=\"Times,serif\" font-size=\"14.00\">risk_score</text>\n</g>\n<!-- risk_score&#45;&gt;payments -->\n<g id=\"edge2\" class=\"edge\">\n<title>risk_score&#45;&gt;payments</title>\n<path fill=\"none\" stroke=\"black\" d=\"M224.3,-74.5C206.97,-64.12 183.44,-50.05 164.42,-38.66\"/>\n<polygon fill=\"black\" stroke=\"black\" points=\"166.14,-35.62 155.76,-33.49 162.54,-41.62 166.14,-35.62\"/>\n</g>\n</g>\n</svg>\n",
      "text/plain": [
       "<graphviz.graphs.Digraph at 0x130cbce80>"
      ]
     },
     "execution_count": 11,
     "metadata": {},
     "output_type": "execute_result"
    }
   ],
   "source": [
    "g = gr.Digraph()\n",
    "\n",
    "g.node(\"email\", color=\"gold\")\n",
    "g.edge(\"credit_limit\", \"payments\")\n",
    "g.edge(\"risk_score\", \"payments\")\n",
    "g.edge(\"email\", \"payments\")\n",
    "\n",
    "g"
   ]
  },
  {
   "cell_type": "markdown",
   "metadata": {},
   "source": [
    "- 이처럼 confounder가 아닌 변수에 대해서도 control을 했을 때, 좋은 경우를 살펴보았다.\n",
    "- 그렇다면 반대로 안좋은 영향을 끼치는 경우에 대해 알아보자."
   ]
  },
  {
   "cell_type": "markdown",
   "metadata": {},
   "source": [
    "## Harmful Control"
   ]
  },
  {
   "cell_type": "markdown",
   "metadata": {},
   "source": [
    "- 약의 효과가 병원에 머무는 시간에 대해 미치는 영향에 대해 알고 싶다고 해보자.\n",
    "- 두 병원이 있는데\n",
    "  - 병원 a는 많이 아픈 환자가 많아서 90%에게 약을 투약하고 10%는 플라시보를 투약했다.\n",
    "  - 병원 b는 그렇지 않아서 90%에게 플라시보를, 10%에게 약을 투약했다고 한다."
   ]
  },
  {
   "cell_type": "code",
   "execution_count": 13,
   "metadata": {},
   "outputs": [
    {
     "data": {
      "text/html": [
       "<div>\n",
       "<style scoped>\n",
       "    .dataframe tbody tr th:only-of-type {\n",
       "        vertical-align: middle;\n",
       "    }\n",
       "\n",
       "    .dataframe tbody tr th {\n",
       "        vertical-align: top;\n",
       "    }\n",
       "\n",
       "    .dataframe thead th {\n",
       "        text-align: right;\n",
       "    }\n",
       "</style>\n",
       "<table border=\"1\" class=\"dataframe\">\n",
       "  <thead>\n",
       "    <tr style=\"text-align: right;\">\n",
       "      <th></th>\n",
       "      <th>hospital</th>\n",
       "      <th>treatment</th>\n",
       "      <th>severity</th>\n",
       "      <th>days</th>\n",
       "    </tr>\n",
       "  </thead>\n",
       "  <tbody>\n",
       "    <tr>\n",
       "      <th>0</th>\n",
       "      <td>1</td>\n",
       "      <td>1</td>\n",
       "      <td>29.686618</td>\n",
       "      <td>82</td>\n",
       "    </tr>\n",
       "    <tr>\n",
       "      <th>1</th>\n",
       "      <td>1</td>\n",
       "      <td>1</td>\n",
       "      <td>20.050340</td>\n",
       "      <td>57</td>\n",
       "    </tr>\n",
       "    <tr>\n",
       "      <th>2</th>\n",
       "      <td>1</td>\n",
       "      <td>1</td>\n",
       "      <td>20.302399</td>\n",
       "      <td>49</td>\n",
       "    </tr>\n",
       "  </tbody>\n",
       "</table>\n",
       "</div>"
      ],
      "text/plain": [
       "   hospital  treatment   severity  days\n",
       "0         1          1  29.686618    82\n",
       "1         1          1  20.050340    57\n",
       "2         1          1  20.302399    49"
      ]
     },
     "execution_count": 13,
     "metadata": {},
     "output_type": "execute_result"
    }
   ],
   "source": [
    "data = pd.read_csv(\"../data/hospital_treatment.csv\")\n",
    "data.head(3)"
   ]
  },
  {
   "cell_type": "code",
   "execution_count": 14,
   "metadata": {},
   "outputs": [
    {
     "data": {
      "text/html": [
       "<table class=\"simpletable\">\n",
       "<tr>\n",
       "      <td></td>         <th>coef</th>     <th>std err</th>      <th>t</th>      <th>P>|t|</th>  <th>[0.025</th>    <th>0.975]</th>  \n",
       "</tr>\n",
       "<tr>\n",
       "  <th>Intercept</th> <td>   33.2667</td> <td>    2.662</td> <td>   12.498</td> <td> 0.000</td> <td>   27.968</td> <td>   38.566</td>\n",
       "</tr>\n",
       "<tr>\n",
       "  <th>treatment</th> <td>   14.1533</td> <td>    3.367</td> <td>    4.204</td> <td> 0.000</td> <td>    7.451</td> <td>   20.856</td>\n",
       "</tr>\n",
       "</table>"
      ],
      "text/plain": [
       "<class 'statsmodels.iolib.table.SimpleTable'>"
      ]
     },
     "execution_count": 14,
     "metadata": {},
     "output_type": "execute_result"
    }
   ],
   "source": [
    "hosp_1 = sm.ols('days ~ treatment', data=data).fit()\n",
    "hosp_1.summary().tables[1]"
   ]
  },
  {
   "cell_type": "markdown",
   "metadata": {},
   "source": [
    "- 위의 결과를 보면 약을 투약할수록 병원에 오래 남아있는 것으로 보인다.\n",
    "- 하지만 약을 투약한 과정을 생각해보자 `severity`가 confounder라는 것을 파악할 수 있다.\n",
    "  - `severity`가 심할수록 병원에 오래 남아있는 경우가 많고 ($E[Y_0 | T=0] < E[Y_0|T=1]$)\n",
    "  - `severity`가 심할수록 약을 더 투약받았다. (random하게 투약한게 아니라) "
   ]
  },
  {
   "cell_type": "code",
   "execution_count": 15,
   "metadata": {},
   "outputs": [
    {
     "data": {
      "text/html": [
       "<table class=\"simpletable\">\n",
       "<tr>\n",
       "      <td></td>         <th>coef</th>     <th>std err</th>      <th>t</th>      <th>P>|t|</th>  <th>[0.025</th>    <th>0.975]</th>  \n",
       "</tr>\n",
       "<tr>\n",
       "  <th>Intercept</th> <td>   11.6641</td> <td>    2.000</td> <td>    5.832</td> <td> 0.000</td> <td>    7.681</td> <td>   15.647</td>\n",
       "</tr>\n",
       "<tr>\n",
       "  <th>treatment</th> <td>   -7.5912</td> <td>    2.269</td> <td>   -3.345</td> <td> 0.001</td> <td>  -12.110</td> <td>   -3.073</td>\n",
       "</tr>\n",
       "<tr>\n",
       "  <th>severity</th>  <td>    2.2741</td> <td>    0.154</td> <td>   14.793</td> <td> 0.000</td> <td>    1.968</td> <td>    2.580</td>\n",
       "</tr>\n",
       "</table>"
      ],
      "text/plain": [
       "<class 'statsmodels.iolib.table.SimpleTable'>"
      ]
     },
     "execution_count": 15,
     "metadata": {},
     "output_type": "execute_result"
    }
   ],
   "source": [
    "hosp_2 = sm.ols('days ~ treatment + severity', data=data).fit()\n",
    "hosp_2.summary().tables[1]"
   ]
  },
  {
   "cell_type": "markdown",
   "metadata": {},
   "source": [
    "- 그래서 `severity`도 추가적으로 control해서 위와 같은 결과를 얻을 수 있다.\n",
    "- 근데 그렇다면 `hosipital`은 어떻게 해야할까?\n",
    "    - `hospital`은 `treatment`의 cause가 맞다.\n",
    "    - 그런데 `severity`를 control했기에 outcome과는 관련이 없어졌다.\n",
    "    - 그렇다면 control할 필요가 없어졌다. 하지만 control하면 위의 Good case처럼 variance를 줄일 수 있지 않을까?"
   ]
  },
  {
   "cell_type": "code",
   "execution_count": 17,
   "metadata": {},
   "outputs": [
    {
     "data": {
      "image/svg+xml": "<?xml version=\"1.0\" encoding=\"UTF-8\" standalone=\"no\"?>\n<!DOCTYPE svg PUBLIC \"-//W3C//DTD SVG 1.1//EN\"\n \"http://www.w3.org/Graphics/SVG/1.1/DTD/svg11.dtd\">\n<!-- Generated by graphviz version 3.0.0 (20220226.1711)\n -->\n<!-- Pages: 1 -->\n<svg width=\"127pt\" height=\"260pt\"\n viewBox=\"0.00 0.00 126.54 260.00\" xmlns=\"http://www.w3.org/2000/svg\" xmlns:xlink=\"http://www.w3.org/1999/xlink\">\n<g id=\"graph0\" class=\"graph\" transform=\"scale(1 1) rotate(0) translate(4 256)\">\n<polygon fill=\"white\" stroke=\"transparent\" points=\"-4,4 -4,-256 122.54,-256 122.54,4 -4,4\"/>\n<!-- treatment -->\n<g id=\"node1\" class=\"node\">\n<title>treatment</title>\n<ellipse fill=\"none\" stroke=\"gold\" cx=\"44.2\" cy=\"-90\" rx=\"44.39\" ry=\"18\"/>\n<text text-anchor=\"middle\" x=\"44.2\" y=\"-86.3\" font-family=\"Times,serif\" font-size=\"14.00\">treatment</text>\n</g>\n<!-- days -->\n<g id=\"node4\" class=\"node\">\n<title>days</title>\n<ellipse fill=\"none\" stroke=\"black\" cx=\"80.2\" cy=\"-18\" rx=\"27\" ry=\"18\"/>\n<text text-anchor=\"middle\" x=\"80.2\" y=\"-14.3\" font-family=\"Times,serif\" font-size=\"14.00\">days</text>\n</g>\n<!-- treatment&#45;&gt;days -->\n<g id=\"edge4\" class=\"edge\">\n<title>treatment&#45;&gt;days</title>\n<path fill=\"none\" stroke=\"black\" d=\"M52.91,-72.05C57.17,-63.77 62.39,-53.62 67.12,-44.42\"/>\n<polygon fill=\"black\" stroke=\"black\" points=\"70.35,-45.8 71.81,-35.31 64.12,-42.6 70.35,-45.8\"/>\n</g>\n<!-- severity -->\n<g id=\"node2\" class=\"node\">\n<title>severity</title>\n<ellipse fill=\"none\" stroke=\"black\" cx=\"80.2\" cy=\"-234\" rx=\"38.19\" ry=\"18\"/>\n<text text-anchor=\"middle\" x=\"80.2\" y=\"-230.3\" font-family=\"Times,serif\" font-size=\"14.00\">severity</text>\n</g>\n<!-- hospital -->\n<g id=\"node3\" class=\"node\">\n<title>hospital</title>\n<ellipse fill=\"none\" stroke=\"black\" cx=\"47.2\" cy=\"-162\" rx=\"38.19\" ry=\"18\"/>\n<text text-anchor=\"middle\" x=\"47.2\" y=\"-158.3\" font-family=\"Times,serif\" font-size=\"14.00\">hospital</text>\n</g>\n<!-- severity&#45;&gt;hospital -->\n<g id=\"edge1\" class=\"edge\">\n<title>severity&#45;&gt;hospital</title>\n<path fill=\"none\" stroke=\"black\" d=\"M72.21,-216.05C68.4,-207.97 63.75,-198.12 59.51,-189.11\"/>\n<polygon fill=\"black\" stroke=\"black\" points=\"62.54,-187.34 55.11,-179.79 56.21,-190.33 62.54,-187.34\"/>\n</g>\n<!-- severity&#45;&gt;days -->\n<g id=\"edge2\" class=\"edge\">\n<title>severity&#45;&gt;days</title>\n<path fill=\"none\" stroke=\"black\" d=\"M85.69,-216.01C88.77,-205.71 92.35,-192.23 94.2,-180 101.37,-132.52 104.62,-119.44 97.2,-72 95.82,-63.18 93.22,-53.82 90.46,-45.46\"/>\n<polygon fill=\"black\" stroke=\"black\" points=\"93.7,-44.13 87.09,-35.86 87.1,-46.45 93.7,-44.13\"/>\n</g>\n<!-- hospital&#45;&gt;treatment -->\n<g id=\"edge3\" class=\"edge\">\n<title>hospital&#45;&gt;treatment</title>\n<path fill=\"none\" stroke=\"black\" d=\"M46.45,-143.7C46.12,-135.98 45.73,-126.71 45.36,-118.11\"/>\n<polygon fill=\"black\" stroke=\"black\" points=\"48.85,-117.95 44.93,-108.1 41.86,-118.25 48.85,-117.95\"/>\n</g>\n</g>\n</svg>\n",
      "text/plain": [
       "<graphviz.graphs.Digraph at 0x130cfd940>"
      ]
     },
     "execution_count": 17,
     "metadata": {},
     "output_type": "execute_result"
    }
   ],
   "source": [
    "g = gr.Digraph()\n",
    "\n",
    "g.node(\"treatment\", color=\"gold\")\n",
    "g.edge(\"severity\", \"hospital\")\n",
    "g.edge(\"severity\", \"days\")\n",
    "g.edge(\"hospital\", \"treatment\")\n",
    "g.edge(\"treatment\", \"days\")\n",
    "\n",
    "g"
   ]
  },
  {
   "cell_type": "code",
   "execution_count": 16,
   "metadata": {},
   "outputs": [
    {
     "data": {
      "text/html": [
       "<table class=\"simpletable\">\n",
       "<tr>\n",
       "      <td></td>         <th>coef</th>     <th>std err</th>      <th>t</th>      <th>P>|t|</th>  <th>[0.025</th>    <th>0.975]</th>  \n",
       "</tr>\n",
       "<tr>\n",
       "  <th>Intercept</th> <td>   11.0111</td> <td>    2.118</td> <td>    5.198</td> <td> 0.000</td> <td>    6.792</td> <td>   15.230</td>\n",
       "</tr>\n",
       "<tr>\n",
       "  <th>treatment</th> <td>   -5.0945</td> <td>    3.492</td> <td>   -1.459</td> <td> 0.149</td> <td>  -12.049</td> <td>    1.861</td>\n",
       "</tr>\n",
       "<tr>\n",
       "  <th>severity</th>  <td>    2.3865</td> <td>    0.195</td> <td>   12.251</td> <td> 0.000</td> <td>    1.999</td> <td>    2.774</td>\n",
       "</tr>\n",
       "<tr>\n",
       "  <th>hospital</th>  <td>   -4.1535</td> <td>    4.413</td> <td>   -0.941</td> <td> 0.350</td> <td>  -12.943</td> <td>    4.636</td>\n",
       "</tr>\n",
       "</table>"
      ],
      "text/plain": [
       "<class 'statsmodels.iolib.table.SimpleTable'>"
      ]
     },
     "execution_count": 16,
     "metadata": {},
     "output_type": "execute_result"
    }
   ],
   "source": [
    "hosp_3 = sm.ols('days ~ treatment + severity + hospital', data=data).fit()\n",
    "hosp_3.summary().tables[1]"
   ]
  },
  {
   "cell_type": "markdown",
   "metadata": {},
   "source": [
    "- 예상과 다르게 ATE의 p-value는 더 커졌다\n",
    "- 왜?\n",
    "- 먼저 계수의 SE를 살펴보자. (일변량회귀)\n",
    "\n",
    "$$V(\\hat{\\beta}) = \\frac{\\sigma^2}{\\sum (x_i - \\bar{x})^2}$$\n",
    "\n",
    "- x변수의 var이 클수록 SE가 작다.\n",
    "- 따라서 treatment에 대해서만 좋은 predictor인 `hospital`을 control하면 오히려 SE가 커질 수 있는 것이다."
   ]
  },
  {
   "cell_type": "markdown",
   "metadata": {},
   "source": [
    "- 따라서 confounder가 아니여도 outcome에 대해 좋은 predictor인 변수가 있다면 이를 모델에 넣어서 control하는 것은 좋은 결과를 낼 수 있을 것이다.\n",
    "- 하지만 treatment에 대해서만 좋은 predictor라면 오히려 estimates의 variance를 증가시킬 수 있기에 추가하지 않는 것이 좋다."
   ]
  },
  {
   "cell_type": "markdown",
   "metadata": {},
   "source": [
    "## Bad Control - Selection Bias"
   ]
  },
  {
   "cell_type": "markdown",
   "metadata": {},
   "source": [
    "https://matheusfacure.github.io/python-causality-handbook/07-Beyond-Confounders.html"
   ]
  },
  {
   "cell_type": "code",
   "execution_count": null,
   "metadata": {},
   "outputs": [],
   "source": []
  },
  {
   "cell_type": "code",
   "execution_count": null,
   "metadata": {},
   "outputs": [],
   "source": []
  },
  {
   "cell_type": "code",
   "execution_count": null,
   "metadata": {},
   "outputs": [],
   "source": []
  },
  {
   "cell_type": "code",
   "execution_count": null,
   "metadata": {},
   "outputs": [],
   "source": []
  }
 ],
 "metadata": {
  "interpreter": {
   "hash": "9b7af7e9d6eedce7ff5306037041610c2910f6ce83bb9354e39a551835acf204"
  },
  "kernelspec": {
   "display_name": "Python 3.9.0 64-bit ('causality390': pyenv)",
   "language": "python",
   "name": "python3"
  },
  "language_info": {
   "codemirror_mode": {
    "name": "ipython",
    "version": 3
   },
   "file_extension": ".py",
   "mimetype": "text/x-python",
   "name": "python",
   "nbconvert_exporter": "python",
   "pygments_lexer": "ipython3",
   "version": "3.9.0"
  },
  "orig_nbformat": 4
 },
 "nbformat": 4,
 "nbformat_minor": 2
}
